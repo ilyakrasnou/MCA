{
 "cells": [
  {
   "cell_type": "markdown",
   "metadata": {},
   "source": [
    "# Лабораторная работа №5 \n",
    "# \"Метод сеток для решения волнового уравнения\""
   ]
  },
  {
   "cell_type": "code",
   "execution_count": 40,
   "metadata": {},
   "outputs": [],
   "source": [
    "import numpy as np\n",
    "import matplotlib.pyplot as plt\n",
    "import matplotlib.animation as animation"
   ]
  },
  {
   "cell_type": "markdown",
   "metadata": {},
   "source": [
    "## Задание 1\n",
    "\n",
    "Дано уравнение \n",
    "$$\n",
    "\\frac {\\partial^2 u}{\\partial t^2} = \\frac{E}{\\rho}\\frac {\\partial^2 u}{\\partial x^2},\\ 0\\le t \\le T,\\ 0 \\le x\\le L \n",
    "$$\n",
    "\n",
    "Со следующими начальными и граничными условиями:\n",
    "$$\n",
    "u(0, x) = p(x),\\ \\frac {\\partial u(0, x)}{\\partial t} = q(x),\\ u(t, 0) = 0,\\ u(t, L) = 0\n",
    "$$\n",
    "\n",
    "Аппроксимируем вторую производную следующей схемой\n",
    "$$\n",
    "\\frac {\\partial^2 u}{\\partial x^2} = \\frac {u(x+h) - 2\\cdot u(x) + u(x-h)}{h^2}\n",
    "$$\n",
    "\n",
    "Формулы для расчетов следующие:\n",
    "\n",
    "$\n",
    "u_{j}^0 = p_{j}; \n",
    "$\n",
    "\n",
    "$\n",
    "u_{j}^1 = u_{j}^0 + \\tau \\cdot \\frac {\\partial u_{j}^0}{\\partial t} + \\frac {\\tau^2}{2} \\frac {\\partial u_{j}^0}{\\partial t^2} = p_{j} + \\tau \\cdot q_{j} + \\frac {\\tau^2 E}{2\\cdot \\rho} \\frac {\\partial^2 u_j}{\\partial x^2} = p_{j} + \\tau \\cdot q_{j} + \\frac {\\tau^2 E}{2\\cdot h_x^2 \\rho} (p_{j+1} - 2\\cdot p_j + p_{j-1});\n",
    "$\n",
    "\n",
    "$\n",
    "\\frac {(u_{j}^{i+1} - 2\\cdot u_j^i + u_{j}^{i-1})}{\\tau^2} = \\frac{E}{\\rho} \\frac {(u_{j+1}^i - 2\\cdot u_j^i + u_{j-1}^i)}{h_x^2}\n",
    "$, отсюда получаем:\n",
    "\n",
    "$\n",
    "u_{j}^{i+1} = \\frac{\\tau^2 E}{\\rho h_x^2} {(u_{j+1}^i - 2\\cdot u_j^i + u_{j-1}^i)} + 2\\cdot u_j^i - u_{j}^{i-1};\n",
    "$\n",
    "\n",
    "Порядок точности второй и по $h_x$, и по  $\\tau$. "
   ]
  },
  {
   "cell_type": "code",
   "execution_count": 41,
   "metadata": {},
   "outputs": [],
   "source": [
    "# C = E / rho\n",
    "def solve(p, q, C, L, N_X, tau, T = None):\n",
    "    x = np.linspace(0, L, N_X)\n",
    "    h_x = x[1] - x[0]\n",
    "    \n",
    "    n = 0\n",
    "    solution_prev_prev = np.zeros(N_X)\n",
    "    solution_prev_prev[1:-1] = p(x[1:-1])\n",
    "    yield solution_prev_prev\n",
    "    \n",
    "    n += 1\n",
    "    solution_prev = np.zeros(N_X)\n",
    "    solution_prev[1:-1] = tau * q(x) + p(x[1:-1]) + tau ** 2 * C / (2 * h_x ** 2) * \\\n",
    "                          (p(x[2:]) - 2 * p(x[1:-1]) + p(x[:-2]))\n",
    "    yield solution_prev\n",
    "    \n",
    "    n += 1\n",
    "    while T is None or n*tau <= T:\n",
    "        solution = np.zeros(N_X)\n",
    "        solution[1:-1] = C * ((tau / h_x) ** 2) * (solution_prev[2:] - 2*solution_prev[1:-1] + solution_prev[:-2]) + \\\n",
    "                         2*solution_prev[1:-1] - solution_prev_prev[1:-1]\n",
    "        yield solution\n",
    "        \n",
    "        n += 1\n",
    "        solution_prev_prev = solution_prev\n",
    "        solution_prev = solution\n",
    "        "
   ]
  },
  {
   "cell_type": "code",
   "execution_count": 42,
   "metadata": {},
   "outputs": [],
   "source": [
    "L = 18\n",
    "delta_u = 0.2\n",
    "p = lambda x: -4 * delta_u / (L ** 2) * x ** 2  + 4*delta_u / L * x\n",
    "q = lambda x: 0\n",
    "rho = 5.9e5\n",
    "E = 120e9\n",
    "\n",
    "x = np.linspace(0, L, 100)\n",
    "y = list(solve(p, q, E / rho, L, 100, 1e-4, 1e-1))"
   ]
  },
  {
   "cell_type": "code",
   "execution_count": 44,
   "metadata": {},
   "outputs": [
    {
     "data": {
      "image/png": "[encoded data removed]",
      "text/plain": [
       "<Figure size 432x288 with 1 Axes>"
      ]
     },
     "metadata": {},
     "output_type": "display_data"
    }
   ],
   "source": [
    "plt.style.use('seaborn-pastel')\n",
    "fig = plt.figure()\n",
    "ax = plt.axes(xlim=(0, 18), ylim=(-0.2, 0.2))\n",
    "line, = ax.plot([], [], lw=3)\n",
    "\n",
    "def init():\n",
    "    line.set_data([], [])\n",
    "    return line,\n",
    "\n",
    "def animate(i):\n",
    "    line.set_data(x, y[i % len(y)])\n",
    "    return line,\n",
    " \n",
    "anim = animation.FuncAnimation(fig, animate, init_func=init,\n",
    "                               frames=800, interval=10, blit=True)\n",
    "  \n",
    "anim.save('lab5_task1.mp4', writer='ffmpeg')"
   ]
  },
  {
   "cell_type": "markdown",
   "metadata": {},
   "source": [
    "## Задание 2\n",
    "\n",
    "Дано волновое уравнение\n",
    "$$\n",
    "\\frac {\\partial^2 u}{\\partial t^2} = (\\frac {\\partial^2 u}{\\partial x^2} + \\frac {\\partial^2 u}{\\partial y^2}),\\ 0 \\le t \\le T,\\ -\\frac a 2 \\le x \\le \\frac a 2,\\ -\\frac b 2 \\le y \\le \\frac b 2\n",
    "$$\n",
    "\n",
    "Со следующими начальными и граничными условиями:\n",
    "$\n",
    "u(0, x, y) = p(x, y),\\ \\frac {\\partial u(0, x, y)}{\\partial t} = q(x, y),\\ u(t, -\\frac a 2 , y) = 0,\\ u(t, \\frac a 2 , y) = 0,\\ \\frac {\\partial u(t, x, -\\frac b 2 )}{\\partial y} = 0,\\ \\frac {\\partial u(t, x, \\frac b 2 )}{\\partial y} = 0\n",
    "$\n",
    "\n",
    "Аппроксимируем вторую производную следующей схемой\n",
    "$\n",
    "\\frac {\\partial^2 u}{\\partial x^2} = \\frac {u(x+h) - 2\\cdot u(x) + u(x-h)}{h^2}\n",
    "$\n",
    "\n",
    "Формулы для расчетов следующие:\n",
    "\n",
    "$\n",
    "u_{j,k}^0 = p_{j,k}; \n",
    "$\n",
    "\n",
    "$\n",
    "u_{j,k}^1 = u_{j,k}^0 + \\tau \\cdot \\frac {\\partial u_{j,k}^0}{\\partial t} + \\frac {\\tau^2}{2} \\frac {\\partial u_{j,k}^0}{\\partial t^2} = p_{j, k} + \\tau \\cdot q_{j, k} + \\frac {\\tau^2}{2} (\\frac {\\partial^2 u_{j,k}}{\\partial x^2} + \\frac {\\partial^2 u_{j,k}}{\\partial y^2}) = p_{j, k} + \\tau \\cdot q_{j, k} + \\frac {\\tau^2}{2} (\\frac {p_{j+1, k} - 2\\cdot p_{j, k} + p_{j-1, k}} {h_x^2} + \\frac {p_{j, k+1} - 2\\cdot p_{j, k} + p_{j, k-1}} {h_y^2});\n",
    "$\n",
    "\n",
    "$\n",
    "\\frac {u^{i+1}_{j,k} - 2\\cdot u^i_{j,k} + u^{i-1}_{j,k}}{\\tau ^2} = \\frac{u^{i}_{j+1, k} - 2\\cdot u^i_{j,k} + u^{i}_{j-1, k}}{h_x^2} + \\frac{u^{i}_{j, k+1} - 2\\cdot u^i_{j,k} + u^{i}_{j, k-1}}{h_y^2}\n",
    "$, отсюда получаем:\n",
    "\n",
    "$\n",
    "u^{i+1}_{j,k} = \\frac{\\tau^2}{h_x^2} (u^{i}_{j+1, k} - 2\\cdot u^i_{j,k} + u^{i}_{j-1, k}) + \\frac{\\tau^2}{h_y^2} (u^{i}_{j, k+1} - 2\\cdot u^i_{j,k} + u^{i}_{j, k-1}) + 2\\cdot u^i_{j,k} - u^{i-1}_{j,k};\n",
    "$\n",
    "\n",
    "$\n",
    "u_{j,K}^i = u_{j,K-1}^i;\n",
    "$\n",
    "\n",
    "$\n",
    "u_{j,0}^i = u_{j,1}^i;\n",
    "$"
   ]
  },
  {
   "cell_type": "code",
   "execution_count": 31,
   "metadata": {},
   "outputs": [],
   "source": [
    "def solve2(a, b, p, q, N_X, N_Y, tau, T = None):\n",
    "    x = np.array([np.linspace(-a/2, a/2, N_X)]).T\n",
    "    y = np.array([np.linspace(-b/2, b/2, N_Y)])\n",
    "    h_x = x[1, 0] - x[0, 0]\n",
    "    h_y = y[0, 1] - y[0, 0]\n",
    "    \n",
    "    n = 0\n",
    "    solution_prev_prev = np.zeros((N_X, N_Y))\n",
    "    solution_prev_prev[1:-1, :] = p(x[1:-1], y)\n",
    "    yield solution_prev_prev.T\n",
    "    \n",
    "    n += 1\n",
    "    solution_prev = np.zeros((N_X, N_Y))\n",
    "    solution_prev[1:-1, 1:-1] = p(x[1:-1], y[:, 1:-1]) + tau * q(x[1:-1], y[:, 1:-1]) + \\\n",
    "                                (tau / h_x) ** 2 / 2 * (p(x[2:], y[:, 1:-1]) - 2*p(x[1:-1], y[:, 1:-1]) + p(x[:-2], y[:, 1:-1])) + \\\n",
    "                                (tau / h_y) ** 2 / 2 * (p(x[1:-1], y[:, 2:]) - 2*p(x[1:-1], y[:, 1:-1]) + p(x[1:-1], y[:, :-2]))\n",
    "    solution_prev[1:-1, 0] = solution_prev[1:-1, 1]\n",
    "    solution_prev[1:-1, -1] = solution_prev[1:-1, -2]\n",
    "    yield solution_prev.T\n",
    "    \n",
    "    n += 1\n",
    "    while T is None or n*tau <= T:\n",
    "        solution = np.zeros((N_X, N_Y))\n",
    "        solution[1:-1, 1:-1] = (tau / h_x) ** 2 * (solution_prev[2:, 1:-1] - 2*solution_prev[1:-1, 1:-1] + solution_prev[:-2, 1:-1]) + \\\n",
    "                               (tau / h_y) ** 2 * (solution_prev[1:-1, 2:] - 2*solution_prev[1:-1, 1:-1] + solution_prev[1:-1, :-2]) + \\\n",
    "                               2*solution_prev[1:-1, 1:-1] - solution_prev_prev[1:-1, 1:-1]\n",
    "        solution[1:-1, 0] = solution[1:-1, 1]\n",
    "        solution[1:-1, -1] = solution[1:-1, -2]\n",
    "        yield solution.T\n",
    "        \n",
    "        n += 1\n",
    "        solution_prev_prev = solution_prev\n",
    "        solution_prev = solution"
   ]
  },
  {
   "cell_type": "code",
   "execution_count": 32,
   "metadata": {},
   "outputs": [],
   "source": [
    "a = 2\n",
    "b = 1\n",
    "p = lambda x, y: np.arctan(np.cos(np.pi*x/a))\n",
    "q = lambda x, y: np.sin(2*np.pi*x/a)*np.sin(2*np.pi*y/b)\n",
    "\n",
    "n_x = 100\n",
    "n_y = 100"
   ]
  },
  {
   "cell_type": "code",
   "execution_count": 34,
   "metadata": {
    "scrolled": true
   },
   "outputs": [
    {
     "data": {
      "image/png": "[encoded data removed]",
      "text/plain": [
       "<Figure size 432x288 with 1 Axes>"
      ]
     },
     "metadata": {},
     "output_type": "display_data"
    }
   ],
   "source": [
    "fig = plt.figure()\n",
    "\n",
    "x = np.linspace(-a/2, a/2, n_x)\n",
    "y = np.linspace(-b/2, b/2, n_y).reshape(-1, 1)\n",
    "\n",
    "extent = -a/2, a/2, -b/2, b/2\n",
    "ims = []\n",
    "for i in solve2(a, b, p, q, n_x, n_y, 0.001, 4):\n",
    "    ims.append([plt.imshow(i, animated=True, cmap=plt.cm.coolwarm, vmin=-.84, vmax=.84, extent=extent)])\n",
    "\n",
    "ani = animation.ArtistAnimation(fig, ims, interval=20, blit=True,\n",
    "                                repeat_delay=100)\n",
    "\n",
    "ani.save(\"lab5_task2.mp4\", writer='ffmpeg')"
   ]
  },
  {
   "cell_type": "code",
   "execution_count": 35,
   "metadata": {},
   "outputs": [
    {
     "name": "stdout",
     "output_type": "stream",
     "text": [
      "0.9174111537747951 -0.8827259061356478\n"
     ]
    }
   ],
   "source": [
    "max_ = 0\n",
    "min_ = 0\n",
    "for i in solve2(a, b, p, q, n_x, n_y, 0.001, 4):\n",
    "    max_ = max(max_, i.max())\n",
    "    min_ = min(min_, i.min())\n",
    "print(max_, min_)"
   ]
  },
  {
   "cell_type": "code",
   "execution_count": null,
   "metadata": {},
   "outputs": [],
   "source": []
  }
 ],
 "metadata": {
  "kernelspec": {
   "display_name": "Python 3",
   "language": "python",
   "name": "python3"
  },
  "language_info": {
   "codemirror_mode": {
    "name": "ipython",
    "version": 3
   },
   "file_extension": ".py",
   "mimetype": "text/x-python",
   "name": "python",
   "nbconvert_exporter": "python",
   "pygments_lexer": "ipython3",
   "version": "3.6.8"
  }
 },
 "nbformat": 4,
 "nbformat_minor": 2
}
