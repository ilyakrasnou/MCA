{
 "cells": [
  {
   "cell_type": "markdown",
   "metadata": {},
   "source": [
    "# Метод сеток решения одномерного нестационарного уравнения теплопроводности"
   ]
  },
  {
   "cell_type": "markdown",
   "metadata": {},
   "source": [
    "## Задание 2"
   ]
  },
  {
   "cell_type": "markdown",
   "metadata": {},
   "source": [
    "### Вывод формул для задачи 2\n",
    "\n",
    "Рассмотрим уравнение баланса, которое на любом отрезке $[a, b]$, где $0 < a < b < l$, имеет вид:\n",
    "\n",
    "$$\n",
    "W(a) - W(b) - \\int_a^b q(x)u(x)dx + \\int_a^b f(x)dx = 0\n",
    "$$\n",
    "\n",
    "$$\n",
    "W(x) = -k(x)u'(x)\n",
    "$$\n",
    "\n",
    "$\\int_a^b q(x)u(x)dx$ опустим, так как $q(x) = 0$\n",
    "\n",
    "Введём:\n",
    "\n",
    "$$\n",
    "x_n = nh, n=0,1,2,...,N, Nh = l\n",
    "$$\n",
    "\n",
    "А также промежуточные (потоковые) узлы:\n",
    "\n",
    "$$\n",
    "x_{n+-0.5} = x_n +- 0.5h\n",
    "$$\n",
    "\n",
    "Запишем уравнение баланса на отрезке $[x_{n-0.5}, x_{n+0.5}]$:\n",
    "\n",
    "$$\n",
    "W_{n-0.5} - W_{n+0.5} + \\int_{x_{n-0.5}}^{x_{n+0.5}} f(x)dx = 0\n",
    "$$\n",
    "\n",
    "Найдём $W_{n-0.5}, W_{n+0.5}$. Для этого проинтегрируем $u'(x)=-\\frac{W(x)}{k(x)}$ на отрезке $[x_{n-1}, x_n]$:\n",
    "\n",
    "$$\n",
    "u_{n-1} - u_n = \\int_{x_{n-1}}^{x_n} \\frac{W(x)}{k(x)}dx\n",
    "$$\n",
    "\n",
    "Тогда при $x_{n-0.5} \\leq x \\leq x_{n+0.5}$:\n",
    "\n",
    "$$\n",
    "W_{n-0.5} \\approx -a_n\\frac{y_n-y_{n-1}}{h}\n",
    "$$\n",
    "\n",
    "$$\n",
    "a_n = (\\frac{1}{h} \\int_{x_{n-1}}^{x_n} \\frac{dx}{k(x)})^{-1}\n",
    "$$\n",
    "А\n",
    "$$\n",
    "W_{n+0.5} \\approx -b_n\\frac{y_{n+1}-y_{n}}{h}\n",
    "$$\n",
    "\n",
    "$$\n",
    "b_n = (\\frac{1}{h} \\int_{x_{n}}^{x_{n+1}} \\frac{dx}{k(x)})^{-1}\n",
    "$$\n",
    "\n",
    "Также обозначим:\n",
    "\n",
    "$$\n",
    "\\varphi_n = \\frac{1}{h} \\int_{x_{n-0.5}}^{x_{n+0.5}} f(x)dx\n",
    "$$\n",
    "\n",
    "#### Получим систему для решения\n",
    "\n",
    "$$\n",
    "\\frac{1}{h}(b_n\\frac{y_{n+1}-y_{n}}{h} -a_n\\frac{y_n-y_{n-1}}{h}) = -\\varphi_n\n",
    "$$\n",
    "\n",
    "И $y_0 = g_1, y_N = g_2$\n",
    "\n",
    "#### Итоговая формула\n",
    "\n",
    "$$\n",
    "\\frac{a_n}{h^2} y_{n-1} - \\frac{a_n + b_n}{h^2} + \\frac{b_n}{h^2} = -\\varphi_n\n",
    "$$"
   ]
  },
  {
   "cell_type": "code",
   "execution_count": 3,
   "metadata": {},
   "outputs": [],
   "source": [
    "import math\n",
    "import numpy as np\n",
    "import sympy as sp\n",
    "import matplotlib.pyplot as plt"
   ]
  },
  {
   "cell_type": "code",
   "execution_count": 4,
   "metadata": {},
   "outputs": [],
   "source": [
    "lb, gl = 1.5, 0\n",
    "rb, gr = 2.5, 0\n",
    "k1, k2, k3 = 80, 1, 20\n",
    "x0 = lb+(rb-lb) / 3\n",
    "# x0 = lb+(rb-lb) / 5\n",
    "x1 = lb + (rb-lb) * 2 / 3\n",
    "# x1 = rb+5\n",
    "h = (rb-lb) / 150   \n",
    "source = [(lb + (rb-lb) / 2, 100)]"
   ]
  },
  {
   "cell_type": "code",
   "execution_count": 5,
   "metadata": {},
   "outputs": [],
   "source": [
    "def a(x):\n",
    "    if x <= x0:\n",
    "        return k1\n",
    "    elif x-h <= x0 < x:\n",
    "        return h / ((x0-x+h) / k1 + (x-x0) / k2)\n",
    "    elif x0 < x-h and x <= x1:\n",
    "        return k2\n",
    "    elif x-h < x1 <= x:\n",
    "        return h / ((x0-x+h) / k2 + (x-x0) / k3)\n",
    "    else:\n",
    "        return k3\n",
    "    \n",
    "\n",
    "def b(x):\n",
    "    if x + h <= x0:\n",
    "        return k1\n",
    "    elif x < x0 <= x + h:\n",
    "        return h / ((x0-x) / k1 + (x+h-x0) / k2)\n",
    "    elif x0 < x and x+h <= x1:\n",
    "        return k2\n",
    "    elif x-h < x1 <= x:\n",
    "        return h / ((x0-x+h) / k2 + (x-x0) / k3)\n",
    "    else:\n",
    "        return k3\n",
    "    \n",
    "    \n",
    "def phi(x, x0, c):\n",
    "    if abs(x - x0) == h / 2:\n",
    "        return c / 2\n",
    "    elif 2*x - h < 2*x0 < 2*x + h:\n",
    "        return c\n",
    "    else:\n",
    "        return 0\n",
    "\n",
    "def second_task():\n",
    "    n = int((rb-lb)/h) + 1\n",
    "    matrix = np.zeros(shape=(n, n))\n",
    "    terms = np.zeros(n)\n",
    "    matrix [0, 0], terms[0] = 1, gl\n",
    "    matrix[-1, -1], terms[-1] = 1, gr\n",
    "    for i in range(1, n-1):\n",
    "        xi = lb + i*h\n",
    "        matrix[i, i-1] = a(xi)\n",
    "        matrix[i, i] = -b(xi) - a(xi)\n",
    "        matrix[i, i+1] = b(xi)\n",
    "        terms[i] = -h * sum(phi(xi, s, c) for s, c in source)\n",
    "#     print(matrix)\n",
    "    return np.arange(lb, rb+h, h), np.linalg.solve(matrix, terms)"
   ]
  },
  {
   "cell_type": "code",
   "execution_count": 6,
   "metadata": {},
   "outputs": [
    {
     "data": {
      "image/png": "[encoded data removed]",
      "text/plain": [
       "<Figure size 432x288 with 1 Axes>"
      ]
     },
     "metadata": {},
     "output_type": "display_data"
    }
   ],
   "source": [
    "# xs = np.arange(lb, rb+h, h)\n",
    "plt.plot(*second_task())\n",
    "plt.grid()\n",
    "plt.show()"
   ]
  },
  {
   "cell_type": "markdown",
   "metadata": {},
   "source": [
    "## Задание 3\n"
   ]
  },
  {
   "cell_type": "markdown",
   "metadata": {},
   "source": [
    "### Вывод используемых формул для задачи 3 и 4\n",
    "\n",
    "\n",
    "\n",
    "Дано следующее уравнение:\n",
    "\n",
    "$$\n",
    "\\frac{\\partial u}{\\partial t} = \\frac{\\partial^2 u}{\\partial x^2}  + f(x), x \\in [a, b], t \\in [0, T]\n",
    "$$\n",
    "\n",
    "Зададим оператор $L$:\n",
    "\n",
    "$$\n",
    "L = \\frac{\\partial}{\\partial t} - \\frac{\\partial^2}{\\partial x^2}\n",
    "$$\n",
    "\n",
    "Для аппроксимации оператора $L$ с помощью явной схемы используем следующие точки:\n",
    "\n",
    "![](https://refdb.ru/images/1449/2896254/4b092928.png)\n",
    "\n",
    "Обозначим для удобства точки следующим образом:\n",
    "\n",
    "$$\n",
    "x_{j,k} = (x, t)\n",
    "$$\n",
    "\n",
    "Тогда, обозначив разность \n",
    "$$x_{j,k}-x_{j-1, k} = h$$\n",
    "A\n",
    "$$x_{j,k+1}-x_{j,k}=\\tau$$\n",
    "\n",
    "Получаем:\n",
    "\n",
    "$$\n",
    "x_{j-1, k} = (x - h, t)\n",
    "$$\n",
    "$$x_{j+1, k} = (x + h, t)\n",
    "$$\n",
    "$$\n",
    "x_{j, k + 1} = (x, t + \\tau)\n",
    "$$\n",
    "Используя эти точки можем аппроксимировать функции:\n",
    "\n",
    "$$\n",
    "\\frac{\\partial u}{\\partial t} = \\frac{u(x, t + \\tau) - u(x, t)}{\\tau}\n",
    "$$\n",
    "\n",
    "$$\n",
    "\\frac{\\partial^2 u}{\\partial x^2} = \\frac{u(x+h, t) - 2u(x, t) + y(x-h, t)}{h^2}\n",
    "$$\n",
    "\n",
    "Таким образом результат оператора $Lu$:\n",
    "\n",
    "$$\n",
    "Lu = \\frac{u(x, t + \\tau) - u(x, t)}{\\tau} - \\frac{u(x+h, t) - 2u(x, t) + y(x-h, t)}{h^2}\n",
    "$$\n",
    "\n",
    "Теперь давайте выразим отсюда $u(x, t + \\tau)$:\n",
    "\n",
    "$$\n",
    "u(x, t + \\tau) = u(x, t) + \\tau(\\frac{u(x + h, t)}{h^2} - 2 \\frac{u(x, t)}{h^2} + \\frac{u(x-h, t)}{h^2})\n",
    "$$\n",
    "\n",
    "### Итого приведя слагаемые:\n",
    "\n",
    "$$\n",
    "u(x, t + \\tau) = \\frac{\\tau}{h^2}u(x-h,t) + (1 - \\frac{\\tau}{h^2})u(x,t) + \\frac{\\tau}{h^2}u(x+h, t)\n",
    "$$ \n",
    "\n",
    "#### Далее\n",
    "\n",
    "Зная значения из нижниго слоя, можно найти значения на верхнем слое\n",
    "\n",
    "#### Примечание для задачи 3\n",
    "\n",
    "В задаче 3 есть $\\frac{\\partial}{\\partial x}(k(x)\\frac{\\partial u}{\\partial x})$.\n",
    "\n",
    "В данном случае аппроксимировать будем следующим образом:\n",
    "\n",
    "$$\n",
    "\\frac{\\partial}{\\partial x}(k(x)\\frac{\\partial u}{\\partial x}) = \\frac{k(x+\\frac{h}{2})u'(x+\\frac{h}{2}) - k(x-\\frac{h}{2})u'(x-\\frac{h}{2})}{\\frac{h}{2}}\n",
    "$$\n",
    "\n",
    "Теперь аппроксимируя $\\frac{\\partial u}{\\partial x}$ и выражая $u(x, t+\\tau)$:\n",
    "\n",
    "$$\n",
    "u(x,t+\\tau)= \\frac{k(x-\\frac{h}{2})\\tau}{h^2}u(x-h, t) + \n",
    "(1 - \\frac{(k(x-\\frac{h}{2})-k(x+\\frac{h}{2}))\\tau}{h^2}u(x, t) + \\frac{k(x+\\frac{h}{2})\\tau}{h^2}u(x+h, t)\n",
    "$$\n",
    "\n",
    "#### Примечание для задачи 4\n",
    "\n",
    "В задаче 4 перед $\\frac{\\partial^2 u}{\\partial x^2}$ стоит *const*. \n",
    "\n",
    "Несложно заметить, что таким образом при выводе эта константа окажется перед аппроксимацией данной производной и получится следующая формула:\n",
    "\n",
    "$$\n",
    "u(x, t + \\tau) = \\frac{c \\cdot \\tau}{h^2}u(x-h,t) + (1 - \\frac{c \\cdot \\tau}{h^2})u(x,t) + \\frac{c \\cdot \\tau}{h^2}u(x+h, t), c - const\n",
    "$$ "
   ]
  },
  {
   "cell_type": "code",
   "execution_count": 38,
   "metadata": {},
   "outputs": [],
   "source": [
    "# t = 0.005\n",
    "# h = 0.02\n",
    "phi = lambda x: -20*(x**2)+74*x-63\n",
    "# a = 20 b = -6-4*a c = 12 + 3.75*a\n",
    "# phi = lambda x: 3\n",
    "k = lambda x: x ** (-1/3)\n",
    "f = lambda x: x+x**0.5\n",
    "a, g1 = 1.5, lambda t: 3\n",
    "b, g2 = 2.5, lambda t: -3\n",
    "h = 0.05\n",
    "t = 0.001\n",
    "T = 500*t\n",
    "num_t = int(T / t) + 1\n",
    "num_k = int((b - a) / h) + 1"
   ]
  },
  {
   "cell_type": "code",
   "execution_count": 41,
   "metadata": {},
   "outputs": [],
   "source": [
    "def third_task():\n",
    "    matrix = np.zeros(shape=(num_t, num_k))\n",
    "\n",
    "    t = T/num_t\n",
    "    matrix [:, 0] = np.array([g1(t) for t in np.linspace(0, T, num_t)])\n",
    "    matrix[:,-1] = np.array([g2(t) for t in np.linspace(0, T, num_t)])\n",
    "\n",
    "    matrix[0,:] = np.array([phi(xi) for xi in np.linspace(a, b, num_k)])\n",
    "\n",
    "    for i in range(1, num_t):\n",
    "        for j in range(1, num_k - 1):\n",
    "            xj = a + j*h\n",
    "            matrix[i][j] = k(xj-h/2)*t/(h ** 2) * matrix[i-1][j-1] + \\\n",
    "                           (1 -(k(xj-h/2)+k(xj+h/2))*t/(h ** 2)) * matrix[i-1][j] + \\\n",
    "                           k(xj+h/2)*t/(h ** 2) * matrix[i-1][j+1] + \\\n",
    "                           t * f(xj)*(1-math.exp(-i*t))\n",
    "                        \n",
    "    return matrix"
   ]
  },
  {
   "cell_type": "code",
   "execution_count": 42,
   "metadata": {},
   "outputs": [
    {
     "data": {
      "image/png": "[encoded data removed]",
      "text/plain": [
       "<Figure size 432x288 with 1 Axes>"
      ]
     },
     "metadata": {},
     "output_type": "display_data"
    }
   ],
   "source": [
    "xs = np.array([a + i*h for i in range(num_k)])\n",
    "\n",
    "matrix = third_task()\n",
    "for i in range(0, num_t, 50):\n",
    "    plt.plot(xs, matrix[i], label=i)\n",
    "#     print(matrix[i][-1])\n",
    "# plt.plot(xs, matrix[0], label=0)\n",
    "# print(phi(1.5), phi(2.5))\n",
    "# plt.plot(xs, matrix[1], label=1)\n",
    "# plt.plot(xs, matrix[2], label=2)\n",
    "plt.grid()\n",
    "plt.show()"
   ]
  },
  {
   "cell_type": "markdown",
   "metadata": {},
   "source": [
    "## Задание 4"
   ]
  },
  {
   "cell_type": "code",
   "execution_count": 9,
   "metadata": {},
   "outputs": [],
   "source": [
    "a = 0\n",
    "b = 1\n",
    "k = 1\n",
    "T = 0.05\n",
    "phi = lambda x: 1\n",
    "g1 = lambda t: math.exp(t)\n",
    "g2 = lambda t: math.exp(10*t)\n",
    "f = lambda x, t: 0\n",
    "h = (b-a) / 50\n",
    "t = 0.5*((h**2) / k)\n",
    "num_t = int(T / t) + 1\n",
    "num_k = int((b - a) / h) + 1"
   ]
  },
  {
   "cell_type": "code",
   "execution_count": 12,
   "metadata": {},
   "outputs": [],
   "source": [
    "def fourth_task():\n",
    "    matrix = np.zeros(shape=(num_t, num_k))\n",
    "\n",
    "\n",
    "    matrix [:, 0] = np.array([g1(ti) for ti in np.linspace(0, T, num_t)])\n",
    "    matrix[:,-1] = np.array([g2(ti) for ti in np.linspace(0, T, num_t)])\n",
    "\n",
    "    matrix[0,:] = np.array([phi(xi) for xi in np.linspace(a, b, num_k)])\n",
    "\n",
    "    coef = np.array([k * t / h**2, 1 - 2 * k * t / h**2, k * t / h**2]) # transpose\n",
    "\n",
    "    for i in range(1, num_t):\n",
    "        for j in range(1, num_k - 1):\n",
    "            matrix[i][j] = matrix[i - 1, j-1:j+2].dot(coef) + t * f(a+j*h, i*t)\n",
    "    return matrix"
   ]
  },
  {
   "cell_type": "code",
   "execution_count": 13,
   "metadata": {},
   "outputs": [
    {
     "data": {
      "image/png": "[encoded data removed]",
      "text/plain": [
       "<Figure size 432x288 with 1 Axes>"
      ]
     },
     "metadata": {},
     "output_type": "display_data"
    }
   ],
   "source": [
    "xs = np.array([a + i*h for i in range(num_k)])\n",
    "\n",
    "matrix = fourth_task()\n",
    "for i in range(0, num_t, 50):\n",
    "    plt.plot(xs, matrix[i], label=i)\n",
    "plt.grid()\n",
    "plt.show()"
   ]
  },
  {
   "cell_type": "code",
   "execution_count": null,
   "metadata": {},
   "outputs": [],
   "source": []
  }
 ],
 "metadata": {
  "kernelspec": {
   "display_name": "Python 3",
   "language": "python",
   "name": "python3"
  },
  "language_info": {
   "codemirror_mode": {
    "name": "ipython",
    "version": 3
   },
   "file_extension": ".py",
   "mimetype": "text/x-python",
   "name": "python",
   "nbconvert_exporter": "python",
   "pygments_lexer": "ipython3",
   "version": "3.6.8"
  }
 },
 "nbformat": 4,
 "nbformat_minor": 2
}
