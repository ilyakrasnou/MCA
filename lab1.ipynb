{
 "cells": [
  {
   "cell_type": "markdown",
   "metadata": {},
   "source": [
    "# Лабораторная работа 1 \"Решение краевых задач. Методы коллокаций, наименьших квадратов и Галеркина\""
   ]
  },
  {
   "cell_type": "markdown",
   "metadata": {},
   "source": [
    "## Теория\n",
    "\n",
    "Рассматриваем уравнение вида:\n",
    "\n",
    "$$\n",
    "u(x)\\cdot y'' + p(x) \\cdot y' + q(x) \\cdot y = f(x)\n",
    "$$\n",
    "\n",
    "$$\n",
    "u(x), p(x), q(x), f(x) - непрерывные \\ на\\  отрезке\\  [a, b]\\ функции (в программе u = c[2], p = c[1], q = c[0], f = c0)\n",
    "$$\n",
    "\n",
    "#### Условия для базисной системы\n",
    "\n",
    "1. $\\phi_{0}$ удовлетворяет граничному условию\n",
    "2. функции $\\phi_{1}(x), ..., \\phi_{n}(x)$ - линейно независимы на [a, b] и удовлетворяют однородным граничным условиям\n",
    "\n",
    "Тогда по базисным функция строим приближенное решение в виде линейной комбинации базисный функций:\n",
    "\n",
    "$$\n",
    "y_{n} = \\phi_{0}(x) + a_{1}\\cdot\\phi_{1}(x) + ... + a_{n}\\cdot\\phi_{n}(x)\n",
    "$$\n",
    "\n",
    "Задача сводится к выбору $a_{1}, ..., a_{n}$ таких, чтобы $y_{n}(x)$ удовлетворяла граничному условию и приближалась к граничному решению.\n",
    "\n",
    "Невязка - выражение, вида:\n",
    "\n",
    "$$\n",
    "\\psi(x, a_{1}, ..., a_{n}) = u(x) \\cdot y_{n}(x)'' + p(x) \\cdot y_{n}(x)' + q(x) \\cdot y_{n}(x) - f(x)\n",
    "$$"
   ]
  },
  {
   "cell_type": "code",
   "execution_count": 207,
   "metadata": {},
   "outputs": [],
   "source": [
    "import math\n",
    "import numpy as np\n",
    "import matplotlib.pyplot as plt\n",
    "\n",
    "k = 15\n",
    "#c = [lambda x: 1 + (x ** 2),\n",
    "#     lambda x: 0,\n",
    "#     lambda x: 1]\n",
    "c = [lambda x: (1+math.cos(k)*(x ** 2)),\n",
    "     lambda x: 0,\n",
    "     lambda x: math.sin(k)]\n",
    "c0 = lambda x: -1\n",
    "a0, b0 = -1, 1\n",
    "h = 0.01\n",
    "df_dx =[lambda f, x: f(x),\n",
    "        lambda f, x: (f(x+h)-f(x-h)) / (2*h),\n",
    "        lambda f, x: (f(x-h)-2*f(x)+f(x+h)) / (h**2)]\n",
    "\n",
    "# Simpson's integration\n",
    "def integration(f, a, b, n = 20):\n",
    "    h = (b - a) / n\n",
    "    return h / 3 * sum([f(a + h * i) + 4 * f(a + h * (i + 1)) + f(a + h * (i + 2)) for i  in range(0, n - 1, 2)])\n",
    "\n",
    "\n",
    "n = 10\n",
    "dh = (b0 - a0) / (n+2)\n",
    "#f = [lambda x: 0, \n",
    "#     lambda x: 1-x**2,\n",
    "#     lambda x: x**2-x**4]\n",
    "def gen_f(i):\n",
    "    return lambda x: x**(i-1) * (1-x**2)\n",
    "\n",
    "\n",
    "# f = [lambda x: 0, \n",
    "#      lambda x: 1-x**2,\n",
    "#      lambda x: x**2-x**4]\n",
    "f = [lambda x: 0]\n",
    "for i in range(1, n):\n",
    "    f.append(gen_f(i))\n",
    "    \n",
    "x = np.arange(a0, b0+0.01, 0.01)"
   ]
  },
  {
   "cell_type": "markdown",
   "metadata": {},
   "source": [
    "### Метод коллокаций\n",
    "\n",
    "На отрезке $[a, b]$ выбирается $m$ точек $x_{1}, ..., x_{n}$ $(m \\geq n)$\n",
    "\n",
    "Эти точки последовательно подставляются в невязку, считаю, что она должна быть равна `0`\n",
    "\n",
    "Обычно берётся `m = n` и решается система из `n` уравнений и `n` неизвестных\n",
    "\n",
    "Коэффициенты в матрице - частные производные:\n",
    "\n",
    "$$\\frac{\\partial \\psi(x_i)}{\\partial a_{j}} = \\sum_{k=0}^{2}c_{k}(x)\\cdot\\phi_j^{(k)}(x_i)$$\n",
    "\n",
    "Значения векторов свободных членов:\n",
    "\n",
    "$$b_i = f(x) - \\sum_{k=0}^{2}c_{k}(x)\\cdot\\phi_0^{(k)}(x_i)$$"
   ]
  },
  {
   "cell_type": "code",
   "execution_count": 208,
   "metadata": {},
   "outputs": [],
   "source": [
    "def collation(collation_point):\n",
    "    matrix = []\n",
    "    b = []\n",
    "    for x in collation_point:\n",
    "        matrix.append([sum(c[j](x)*df_dx[j](f[i], x) for j in range(3)) for i in range(1, n)])\n",
    "        b.append(c0(x)-sum(c[j](x)*df_dx[j](f[0], x) for j in range(3)))\n",
    "    sol = np.linalg.solve(np.array(matrix), np.array(b))\n",
    "    print(sol)\n",
    "    return lambda x: f[0](x) + sum(sol[i]*f[i+1](x) for i in range(n-1))"
   ]
  },
  {
   "cell_type": "code",
   "execution_count": 209,
   "metadata": {
    "scrolled": true
   },
   "outputs": [
    {
     "name": "stdout",
     "output_type": "stream",
     "text": [
      "[ 1.79141962e+00 -1.52806947e-03 -3.54920743e-01 -1.13156434e-03\n",
      "  9.45690179e-02 -1.30104781e-03 -1.22908999e-02 -1.39350636e-03\n",
      "  7.62265208e-04]\n"
     ]
    },
    {
     "data": {
      "image/png": "[encoded data removed]",
      "text/plain": [
       "<Figure size 432x288 with 1 Axes>"
      ]
     },
     "metadata": {},
     "output_type": "display_data"
    }
   ],
   "source": [
    "plt.plot(x, collation([a0 + i*dh for i in range(n-1)])(x), 'r')\n",
    "plt.show()"
   ]
  },
  {
   "cell_type": "markdown",
   "metadata": {},
   "source": [
    "### Интегральный МНК\n",
    "\n",
    "Для нахождения коффициентов при базисных функциях минимизируется интеграл:\n",
    "\n",
    "$$\n",
    "I = \\int_a^b \\phi^2(x, a_1, ..., a_n)dx\n",
    "$$\n",
    "\n",
    "Для нахождения минимума интеграла решаем систему:\n",
    "\n",
    "$$\n",
    "\\frac{dI}{d a_1} = 2 \\int_a^b \\psi(x, a_1, ..., a_n) \\frac{d \\psi(x, a_1, ..., a_n)}{da_1}dx = 0\n",
    "$$\n",
    "$$\n",
    "...............................................\n",
    "$$\n",
    "$$\n",
    "\\frac{dI}{d a_n} = 2 \\int_a^b \\psi(x, a_1, ..., a_n) \\frac{d \\psi(x, a_1, ..., a_n)}{d a_n}dx = 0\n",
    "$$\n",
    "\n",
    "Коэффициенты в матрице:\n",
    "\n",
    "$$\\int_a^b\\frac{\\partial \\psi(x)}{\\partial a_{i}} \\cdot\\frac{\\partial \\psi(x)}{\\partial a_{j}} dx $$\n",
    "\n",
    "Значения вектора свободных членов:\n",
    "\n",
    "$$b_i = \\int_a^b\\left(f(x) - \\frac{\\partial \\psi(x)}{\\partial a_{0}}\\right)\\cdot\\frac{\\partial \\psi(x)}{\\partial a_{i}} dx $$"
   ]
  },
  {
   "cell_type": "code",
   "execution_count": 210,
   "metadata": {},
   "outputs": [],
   "source": [
    "def part(q):\n",
    "    return lambda x: sum(c[i](x)*df_dx[i](f[q], x) for i in range(3))"
   ]
  },
  {
   "cell_type": "code",
   "execution_count": 211,
   "metadata": {
    "scrolled": true
   },
   "outputs": [],
   "source": [
    "def mnk_int():\n",
    "    matrix = [[integration(lambda x: part(i)(x)*part(j)(x), a0, b0) for j in range(1, n)] for i in range(1, n)]\n",
    "    b = [integration(lambda x: (c0(x)-part(0)(x))*part(i)(x), a0, b0) for i in range(1, n)]\n",
    "#     print(matrix)\n",
    "#     print(b)\n",
    "    sol = np.linalg.solve(np.array(matrix), np.array(b))\n",
    "    print(sol)\n",
    "    return lambda x: f[0](x) + sum(sol[i]*f[i+1](x) for i in range(n-1))"
   ]
  },
  {
   "cell_type": "code",
   "execution_count": 212,
   "metadata": {
    "scrolled": true
   },
   "outputs": [
    {
     "name": "stdout",
     "output_type": "stream",
     "text": [
      "[ 1.79459258e+00  1.20993496e-14 -3.54178524e-01 -9.11304336e-15\n",
      "  9.58354593e-02  2.63065394e-14 -1.06249215e-02 -1.73480542e-14\n",
      "  1.22018695e-03]\n"
     ]
    },
    {
     "data": {
      "image/png": "[encoded data removed]",
      "text/plain": [
       "<Figure size 432x288 with 1 Axes>"
      ]
     },
     "metadata": {},
     "output_type": "display_data"
    }
   ],
   "source": [
    "plt.plot(x, mnk_int()(x), 'g')\n",
    "plt.show()"
   ]
  },
  {
   "cell_type": "markdown",
   "metadata": {},
   "source": [
    "### Дискретный МНК\n",
    "\n",
    "Выбирается $N > n$ точек и решается задача минимизации:\n",
    "\n",
    "$$\n",
    "S = \\sum_{i=1}^{N}\\psi^2(x_i, a_1, ..., a_n)\n",
    "$$\n",
    "\n",
    "Для её решение решается система:\n",
    "\n",
    "$$\n",
    "\\frac{dS}{d a_1} = 0\n",
    "$$\n",
    "$$\n",
    ".......\n",
    "$$\n",
    "$$\n",
    "\\frac{dS}{d a_n} = 0\n",
    "$$\n",
    "\n",
    "Коэффициенты в матрице:\n",
    "\n",
    "$$\\sum_{k=0}^{N}\\frac{\\partial \\psi(x_k)}{\\partial a_{i}} \\cdot\\frac{\\partial \\psi(x_k)}{\\partial a_{j}} $$\n",
    "\n",
    "Значения вектора свободных членов:\n",
    "\n",
    "$$b_i = \\sum_{k=0}^{N}\\left(f(x_k) - \\frac{\\partial \\psi(x_k)}{\\partial a_{0}}\\right)\\cdot\\frac{\\partial \\psi(x_k)}{\\partial a_{i}} $$"
   ]
  },
  {
   "cell_type": "code",
   "execution_count": 213,
   "metadata": {},
   "outputs": [],
   "source": [
    "def mnk_discr(points):\n",
    "    matrix = []\n",
    "    b = []\n",
    "    for i in range(1, n):\n",
    "        row = []\n",
    "        for j in range(1, n):\n",
    "            der = lambda x: part(i)(x)*part(j)(x)\n",
    "            row.append(sum(der(x) for x in points))\n",
    "        matrix.append(row)\n",
    "        der = lambda x: (c0(x)-part(0)(x))*part(i)(x)\n",
    "        b.append(sum(der(x) for x in points))\n",
    "    #print(matrix)\n",
    "    #print(b)\n",
    "    sol = np.linalg.solve(np.array(matrix), np.array(b))\n",
    "    print(sol)\n",
    "    return lambda x: f[0](x) + sum(sol[i]*f[i+1](x) for i in range(n-1))"
   ]
  },
  {
   "cell_type": "code",
   "execution_count": 214,
   "metadata": {},
   "outputs": [
    {
     "name": "stdout",
     "output_type": "stream",
     "text": [
      "[ 1.79453193e+00 -2.86104356e-05 -3.54198689e-01 -3.00409930e-05\n",
      "  9.58492987e-02  2.96432988e-05 -1.07088375e-02 -1.24691699e-04\n",
      "  1.17795502e-03]\n"
     ]
    },
    {
     "data": {
      "image/png": "[encoded data removed]",
      "text/plain": [
       "<Figure size 432x288 with 1 Axes>"
      ]
     },
     "metadata": {},
     "output_type": "display_data"
    }
   ],
   "source": [
    "plt.plot(x, mnk_discr([a0 + i*dh for i in range(n+1)])(x), 'y')\n",
    "plt.show()"
   ]
  },
  {
   "cell_type": "markdown",
   "metadata": {},
   "source": [
    "### Метод Галёркина\n",
    "\n",
    "Рассматриваем невязку $\\psi$ и для определения коэффициентов $a_1, ..., a_n$ решаем систему:\n",
    "\n",
    "\n",
    "$$\n",
    "\\int_a^b\\psi(x, a_1, ..., a_n)\\cdot \\phi_1(x)dx = 0\n",
    "$$\n",
    "$$\n",
    "................................\n",
    "$$\n",
    "$$\n",
    "\\int_a^b\\psi(x, a_1, ..., a_n)\\cdot \\phi_n(x)dx = 0\n",
    "$$\n",
    "\n",
    "Коэффициенты в матрице:\n",
    "\n",
    "$$\\int_a^b\\frac{\\partial \\psi(x)}{\\partial a_{j}} \\cdot \\phi_i(x) dx $$\n",
    "\n",
    "Значения вектора свободных членов:\n",
    "\n",
    "$$b_i = \\int_a^b\\left(f(x) - \\frac{\\partial \\psi(x)}{\\partial a_{0}}\\right)\\cdot \\phi_i(x) dx $$"
   ]
  },
  {
   "cell_type": "code",
   "execution_count": 215,
   "metadata": {},
   "outputs": [],
   "source": [
    "def galerkin():\n",
    "    matrix = [[integration(lambda x: part(j)(x)*f[i](x), a0, b0) for j in range(1, n)] for i in range(1, n)]\n",
    "    #print(matrix)\n",
    "    b = [integration(lambda x: (c0(x)-part(0)(x))*f[i](x), a0, b0) for i in range(1, n)]\n",
    "    #print(b)\n",
    "    sol = np.linalg.solve(np.array(matrix), np.array(b))\n",
    "    print(sol)\n",
    "    return lambda x: f[0](x) + sum(sol[i]*f[i+1](x) for i in range(n-1))\n",
    "# print(f'x\\ty(x)\\n0.25\\t{y(0.25)}\\n0.5\\t{y(0.5)}\\n0.75\\t{0.75}')"
   ]
  },
  {
   "cell_type": "code",
   "execution_count": 216,
   "metadata": {},
   "outputs": [
    {
     "name": "stdout",
     "output_type": "stream",
     "text": [
      "[ 1.79459317e+00  1.04331717e-14 -3.54185004e-01  5.06882977e-15\n",
      "  9.58834288e-02 -5.81234593e-15 -1.07322751e-02  4.45033289e-15\n",
      "  1.29445635e-03]\n"
     ]
    },
    {
     "data": {
      "image/png": "[encoded data removed]",
      "text/plain": [
       "<Figure size 432x288 with 1 Axes>"
      ]
     },
     "metadata": {},
     "output_type": "display_data"
    }
   ],
   "source": [
    "plt.plot(x, galerkin()(x), 'b')\n",
    "plt.show()"
   ]
  },
  {
   "cell_type": "code",
   "execution_count": 217,
   "metadata": {},
   "outputs": [
    {
     "name": "stdout",
     "output_type": "stream",
     "text": [
      "[ 1.79141962e+00 -1.52806947e-03 -3.54920743e-01 -1.13156434e-03\n",
      "  9.45690179e-02 -1.30104781e-03 -1.22908999e-02 -1.39350636e-03\n",
      "  7.62265208e-04]\n",
      "[ 1.79459258e+00  1.20993496e-14 -3.54178524e-01 -9.11304336e-15\n",
      "  9.58354593e-02  2.63065394e-14 -1.06249215e-02 -1.73480542e-14\n",
      "  1.22018695e-03]\n",
      "[ 1.79459243e+00 -3.21438298e-07 -3.54179408e-01  3.61144125e-06\n",
      "  9.58421371e-02 -9.42577497e-06 -1.06408918e-02  6.81730466e-06\n",
      "  1.23098397e-03]\n",
      "[ 1.79459317e+00  1.04331717e-14 -3.54185004e-01  5.06882977e-15\n",
      "  9.58834288e-02 -5.81234593e-15 -1.07322751e-02  4.45033289e-15\n",
      "  1.29445635e-03]\n"
     ]
    },
    {
     "data": {
      "image/png": "[encoded data removed]",
      "text/plain": [
       "<Figure size 432x288 with 1 Axes>"
      ]
     },
     "metadata": {},
     "output_type": "display_data"
    }
   ],
   "source": [
    "plt.plot(x, collation([a0 + i*dh for i in range(n-1)])(x), 'r')\n",
    "plt.plot(x, mnk_int()(x), 'g')\n",
    "mh = (b0 - a0) / (5*n)\n",
    "plt.plot(x, mnk_discr([a0 + i*mh for i in range(5*n)])(x), 'y')\n",
    "plt.plot(x, galerkin()(x), 'b')\n",
    "plt.grid()\n",
    "plt.show()"
   ]
  },
  {
   "cell_type": "code",
   "execution_count": null,
   "metadata": {},
   "outputs": [],
   "source": []
  },
  {
   "cell_type": "code",
   "execution_count": null,
   "metadata": {},
   "outputs": [],
   "source": []
  }
 ],
 "metadata": {
  "kernelspec": {
   "display_name": "Python 3",
   "language": "python",
   "name": "python3"
  },
  "language_info": {
   "codemirror_mode": {
    "name": "ipython",
    "version": 3
   },
   "file_extension": ".py",
   "mimetype": "text/x-python",
   "name": "python",
   "nbconvert_exporter": "python",
   "pygments_lexer": "ipython3",
   "version": "3.6.8"
  }
 },
 "nbformat": 4,
 "nbformat_minor": 2
}
