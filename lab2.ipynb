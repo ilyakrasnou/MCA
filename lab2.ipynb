{
 "cells": [
  {
   "cell_type": "markdown",
   "metadata": {},
   "source": [
    "## Лабораторная работа №2 \"РЕШЕНИЕ КРАЕВЫХ ЗАДАЧ МЕТОДОМ РАЗНОСТНЫХ АППРОКСИМАЦИЙ\""
   ]
  },
  {
   "cell_type": "markdown",
   "metadata": {},
   "source": [
    "`coeff[2]*y\" + coeff[1]*y' + coeff[0]*y = c0`"
   ]
  },
  {
   "cell_type": "code",
   "execution_count": 1,
   "metadata": {},
   "outputs": [],
   "source": [
    "import math\n",
    "import numpy as np\n",
    "import matplotlib.pyplot as plt\n",
    "\n",
    "k = 15\n",
    "coeff = [lambda x: (1+math.cos(k)*(x ** 2)),\n",
    "         lambda x: 0,\n",
    "         lambda x: math.sin(k)]\n",
    "c0 = lambda x: -1\n",
    "\n",
    "a0, A0 = -1, 0\n",
    "b0, B0 = 1, 0\n",
    "\n",
    "eps = 0.001\n",
    "n = 10"
   ]
  },
  {
   "cell_type": "code",
   "execution_count": 2,
   "metadata": {
    "scrolled": true
   },
   "outputs": [],
   "source": [
    "\n",
    "\n",
    "def raznost(n):\n",
    "    h = (b0-a0) / n\n",
    "    \n",
    "    a = lambda x: 2*coeff[2](x) + h*coeff[1](x) if a0 < x < b0 else 0\n",
    "    b = lambda x: 2*(h**2)*coeff[0](x) - 4*coeff[2](x) if a0 < x < b0 else 1\n",
    "    c = lambda x: 2*coeff[2](x) - h*coeff[1](x) if a0 < x < b0 else 0\n",
    "    d = lambda x: A0 if x <= a0 else B0 if x >= b0 else 2*h**2 * c0(x)\n",
    "    \n",
    "#     A = [0] * (n+1)\n",
    "#     B = [0] * (n+1)\n",
    "#     y = [0] * (n+1)\n",
    "#     x = [0] * (n+1)\n",
    "#     for i in range(n+1):\n",
    "#         xi = a0 + h*i\n",
    "#         x[i] = xi\n",
    "#         #if not (abs(b(xi)) >= abs(a(xi)) + abs(c(xi))):\n",
    "#             #print('Blya')\n",
    "#         A[i] = (-c(xi)) / (a(xi)*A[i-1] + b(xi))\n",
    "#         B[i] = (d(xi) - a(xi)*B[i-1]) / (a(xi)*A[i-1]+b(xi))\n",
    "#     y[n] = B[n]\n",
    "#     for i in range(n-1, -1, -1):\n",
    "#         y[i] = A[i]*y[i+1] + B[i]\n",
    "    matrix = [[0] * (n+1) for _ in range(n+1)]\n",
    "    q = [0] * (n+1)\n",
    "    x = [0] * (n+1)\n",
    "    for i in range(n+1):\n",
    "        xi = a0 +h*i\n",
    "        x[i] = xi\n",
    "        matrix[i][i] = b(xi)\n",
    "        if i > 0:\n",
    "            matrix[i][i-1] = c(xi)\n",
    "        if i < n:\n",
    "            matrix[i][i+1] = a(xi)\n",
    "        q[i] = d(xi)\n",
    "    sol = np.linalg.solve(np.array(matrix), np.array(q))\n",
    "    return x, sol"
   ]
  },
  {
   "cell_type": "code",
   "execution_count": 3,
   "metadata": {},
   "outputs": [],
   "source": [
    "def find(n):\n",
    "    while True:\n",
    "        x1, y1 = raznost(n)\n",
    "        x2, y2 = raznost(2*n)\n",
    "        max_diff = max(abs(y2[2*i] - y1[i]) for i in range(len(x1)))\n",
    "        if max_diff < eps:\n",
    "            print(n)\n",
    "            return x1, y1\n",
    "        plt.plot(x1, y1)\n",
    "        n *= 2\n",
    "        return x1, y1"
   ]
  },
  {
   "cell_type": "code",
   "execution_count": 4,
   "metadata": {},
   "outputs": [
    {
     "name": "stdout",
     "output_type": "stream",
     "text": [
      "1.8154232492842401\n"
     ]
    },
    {
     "data": {
      "image/png": "[encoded data removed]",
      "text/plain": [
       "<Figure size 432x288 with 1 Axes>"
      ]
     },
     "metadata": {},
     "output_type": "display_data"
    }
   ],
   "source": [
    "graph = find(n)\n",
    "print(np.amax(graph[1]))\n",
    "# plt.plot(graph[0], graph[1])\n",
    "# plt.grid()\n",
    "plt.show()"
   ]
  },
  {
   "cell_type": "code",
   "execution_count": 5,
   "metadata": {},
   "outputs": [],
   "source": [
    "coeff = [lambda x: (1+(x ** 2)),\n",
    "         lambda x: 0,\n",
    "         lambda x: 1]\n",
    "n = 10"
   ]
  },
  {
   "cell_type": "code",
   "execution_count": 6,
   "metadata": {},
   "outputs": [
    {
     "name": "stdout",
     "output_type": "stream",
     "text": [
      "0.9381523334362342\n"
     ]
    },
    {
     "data": {
      "image/png": "[encoded data removed]",
      "text/plain": [
       "<Figure size 432x288 with 1 Axes>"
      ]
     },
     "metadata": {},
     "output_type": "display_data"
    }
   ],
   "source": [
    "graph = find(n)\n",
    "print(np.amax(graph[1]))\n",
    "plt.plot(graph[0], graph[1])\n",
    "plt.grid()\n",
    "plt.show()"
   ]
  },
  {
   "cell_type": "code",
   "execution_count": null,
   "metadata": {},
   "outputs": [],
   "source": []
  }
 ],
 "metadata": {
  "kernelspec": {
   "display_name": "Python 3",
   "language": "python",
   "name": "python3"
  },
  "language_info": {
   "codemirror_mode": {
    "name": "ipython",
    "version": 3
   },
   "file_extension": ".py",
   "mimetype": "text/x-python",
   "name": "python",
   "nbconvert_exporter": "python",
   "pygments_lexer": "ipython3",
   "version": "3.6.8"
  }
 },
 "nbformat": 4,
 "nbformat_minor": 2
}
